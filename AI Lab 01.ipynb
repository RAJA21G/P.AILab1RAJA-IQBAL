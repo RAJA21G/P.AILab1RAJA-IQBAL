{
 "cells": [
  {
   "cell_type": "markdown",
   "id": "7788a8f2",
   "metadata": {},
   "source": [
    "# Task 01:\n"
   ]
  },
  {
   "cell_type": "markdown",
   "id": "58d3a1e5",
   "metadata": {},
   "source": [
    "# Difference B/w \"==\" & \"=\" Operators:"
   ]
  },
  {
   "cell_type": "markdown",
   "id": "be2d3795",
   "metadata": {},
   "source": [
    "1-Equality Operator (==):"
   ]
  },
  {
   "cell_type": "code",
   "execution_count": 18,
   "id": "30a24f1e",
   "metadata": {},
   "outputs": [
    {
     "name": "stdout",
     "output_type": "stream",
     "text": [
      "True Because they are equal\n"
     ]
    }
   ],
   "source": [
    "x = 5\n",
    "y = 3 + 2\n",
    "print(x == y,\"Because they are equal.\")  # This will print True because the values of x and y are equal."
   ]
  },
  {
   "cell_type": "markdown",
   "id": "15bf0cef",
   "metadata": {},
   "source": [
    "2-Assignment Operator (=):"
   ]
  },
  {
   "cell_type": "code",
   "execution_count": 14,
   "id": "37fed6cf",
   "metadata": {},
   "outputs": [
    {
     "name": "stdout",
     "output_type": "stream",
     "text": [
      "Value of X is: 10\n"
     ]
    }
   ],
   "source": [
    "x = 5  # Assigning the value 5 to the variable x\n",
    "x = 10 # Now here we change or assign new value to x\n",
    "print (\"Value of X is:\",x)"
   ]
  },
  {
   "cell_type": "markdown",
   "id": "63687667",
   "metadata": {},
   "source": [
    "# Task 02:"
   ]
  },
  {
   "cell_type": "markdown",
   "id": "3ab164e9",
   "metadata": {},
   "source": [
    "# All Data Types "
   ]
  },
  {
   "cell_type": "code",
   "execution_count": 20,
   "id": "8eb0d17d",
   "metadata": {},
   "outputs": [
    {
     "name": "stdout",
     "output_type": "stream",
     "text": [
      "RAJA IQBAL\n",
      "Sum of a+b =  25\n",
      "True Because they are equal.\n",
      "Product of x * y is: 7.383000000000001\n",
      "True Because they are equal.\n",
      "100j\n"
     ]
    }
   ],
   "source": [
    "#Int Example\n",
    "a = 15\n",
    "b = 10\n",
    "c = a+b\n",
    "\n",
    "#String Example\n",
    "R = \"RAJA \"\n",
    "I = \"IQBAL\"\n",
    "RI = R+I\n",
    "print (RI)\n",
    "print (\"Sum of a+b = \",c)\n",
    "\n",
    "#Float Exx = 5\n",
    "y = 3 + 2\n",
    "print(x == y,\"Because they are equal.\")  # This will print True because the values of x and y are equal.ample\n",
    "x = 2.14\n",
    "y = 3.45\n",
    "z = x*y\n",
    "print (\"Product of x * y is:\",z)\n",
    "\n",
    "#Boolean Example\n",
    "x = 5\n",
    "y = 3 + 2\n",
    "print(x == y,\"Because they are equal.\")  # This will print True because the values of x and y are equal.\n",
    "\n",
    "#Complex Number Example\n",
    "a = 25\n",
    "b = 2j\n",
    "j = 2\n",
    "c = a*b*j\n",
    "print (c)"
   ]
  },
  {
   "cell_type": "markdown",
   "id": "9a32ed9f",
   "metadata": {},
   "source": [
    "# Task 03:"
   ]
  },
  {
   "cell_type": "markdown",
   "id": "06a57f96",
   "metadata": {},
   "source": [
    "# Rules for Variables "
   ]
  },
  {
   "cell_type": "markdown",
   "id": "be002e29",
   "metadata": {},
   "source": [
    "\n",
    "Python variable names can contain letters, digits, and underscores, but cannot start with a digit, contain spaces, or use reserved keywords. They are case-sensitive."
   ]
  },
  {
   "cell_type": "code",
   "execution_count": 22,
   "id": "29c281a1",
   "metadata": {},
   "outputs": [
    {
     "ename": "SyntaxError",
     "evalue": "invalid decimal literal (1879315132.py, line 10)",
     "output_type": "error",
     "traceback": [
      "\u001b[1;36m  Cell \u001b[1;32mIn[22], line 10\u001b[1;36m\u001b[0m\n\u001b[1;33m    2variable = 35  # Error: starts with a digit\u001b[0m\n\u001b[1;37m    ^\u001b[0m\n\u001b[1;31mSyntaxError\u001b[0m\u001b[1;31m:\u001b[0m invalid decimal literal\n"
     ]
    }
   ],
   "source": [
    "# Valid variable names\n",
    "my_variable = 5\n",
    "MyVariable = 10\n",
    "_variable = 15\n",
    "variable2 = 20\n",
    "var_2 = 25\n",
    "var_name_long = 30\n",
    "\n",
    "# Invalid variable names\n",
    "2variable = 35  # Error: starts with a digit\n",
    "my variable = 40  # Error: contains a space\n",
    "my-variable = 45  # Error: contains a hyphen\n",
    "if = 50  # Error: reserved keyword\n"
   ]
  },
  {
   "cell_type": "markdown",
   "id": "c938e643",
   "metadata": {},
   "source": [
    "# Task 04:"
   ]
  },
  {
   "cell_type": "markdown",
   "id": "45001d53",
   "metadata": {},
   "source": [
    "# Same Varibale Diff Values ,Diff Variables Same Value "
   ]
  },
  {
   "cell_type": "markdown",
   "id": "131d8c27",
   "metadata": {},
   "source": [
    "Multiple variables in a single line using Lists \n"
   ]
  },
  {
   "cell_type": "code",
   "execution_count": 27,
   "id": "9ce04d89",
   "metadata": {},
   "outputs": [
    {
     "name": "stdout",
     "output_type": "stream",
     "text": [
      "Value of List 1 is: 11\n",
      "Value of List 2 is: 22\n",
      "Value of List 3 is: 33\n"
     ]
    }
   ],
   "source": [
    "List_1, List_2, List_3 = [11,22,33]\n",
    "print (\"Value of List 1 is:\", List_1) \n",
    "print (\"Value of List 2 is:\", List_2) \n",
    "print (\"Value of List 3 is:\", List_3)\n"
   ]
  },
  {
   "cell_type": "markdown",
   "id": "30ea749f",
   "metadata": {},
   "source": [
    "Same Varibale Differnt Values"
   ]
  },
  {
   "cell_type": "code",
   "execution_count": 29,
   "id": "f2e0f896",
   "metadata": {},
   "outputs": [
    {
     "name": "stdout",
     "output_type": "stream",
     "text": [
      "Values of Same Varibale with Differnt Values is: ('RAJA', 21, 18, 'g', 2.14)\n"
     ]
    }
   ],
   "source": [
    "Varibale = 'RAJA',21,18,'g',2.14,\n",
    "print(\"Values of Same Varibale with Differnt Values is:\",Varibale)"
   ]
  },
  {
   "cell_type": "markdown",
   "id": "f52ae660",
   "metadata": {},
   "source": [
    "Differnt Varibales Same Value"
   ]
  },
  {
   "cell_type": "code",
   "execution_count": 30,
   "id": "d05d579d",
   "metadata": {},
   "outputs": [
    {
     "name": "stdout",
     "output_type": "stream",
     "text": [
      "\"RAJA  (Email) is:   \" raaja21g@gmail.com\n",
      "\"RAJA  Email is:\"       raaja21g@gmail.com\n",
      "\"Raja Iqbal Email is:  \" raaja21g@gmail.com\n",
      "\"Raja Personal Email is:\" raaja21g@gmail.com\n"
     ]
    }
   ],
   "source": [
    "email = \"raaja21g@gmail.com\"\n",
    "\n",
    "print('\"RAJA  (Email) is:   \"', email)\n",
    "print('\"RAJA  Email is:\"      ', email)\n",
    "print('\"Raja Iqbal Email is:  \"', email)\n",
    "print('\"Raja Personal Email is:\"', email)"
   ]
  },
  {
   "cell_type": "markdown",
   "id": "4aa3e432",
   "metadata": {},
   "source": [
    "# Task 05:"
   ]
  },
  {
   "cell_type": "markdown",
   "id": "789b71e5",
   "metadata": {},
   "source": [
    "# Arithmetic Operations "
   ]
  },
  {
   "cell_type": "markdown",
   "id": "aa8d7242",
   "metadata": {},
   "source": [
    "1-Integer Operation"
   ]
  },
  {
   "cell_type": "code",
   "execution_count": 33,
   "id": "0b0a19a3",
   "metadata": {},
   "outputs": [
    {
     "name": "stdout",
     "output_type": "stream",
     "text": [
      "Sum of A & B is: 30\n",
      "Productof A & B is: 200\n",
      "Division of A & B is: 0.5\n",
      "Difference of A & B is: -10\n"
     ]
    }
   ],
   "source": [
    "#Addition\n",
    "a = 10\n",
    "b = 20\n",
    "c = a+b\n",
    "print (\"Sum of A & B is:\",c)\n",
    "\n",
    "#Multiplication\n",
    "p = a*b\n",
    "print (\"Productof A & B is:\",p)\n",
    "\n",
    "#Division\n",
    "d = a/b\n",
    "print (\"Division of A & B is:\",d)\n",
    "\n",
    "#Subtraction\n",
    "s = a-b\n",
    "print (\"Difference of A & B is:\",s)"
   ]
  },
  {
   "cell_type": "markdown",
   "id": "1ff5729c",
   "metadata": {},
   "source": [
    "2-Float Operations"
   ]
  },
  {
   "cell_type": "code",
   "execution_count": 36,
   "id": "7a611eba",
   "metadata": {},
   "outputs": [
    {
     "name": "stdout",
     "output_type": "stream",
     "text": [
      "Sum of A & B is: 15.94\n",
      "Productof A & B is: 57.7609\n",
      "Division of A & B is: 1.8617594254937162\n",
      "Difference of A & B is: 4.799999999999999\n"
     ]
    }
   ],
   "source": [
    "#Addition\n",
    "a = 10.37\n",
    "b = 5.57\n",
    "c = a+b\n",
    "print (\"Sum of A & B is:\",c)\n",
    "\n",
    "#Multiplication\n",
    "p = a*b\n",
    "print (\"Productof A & B is:\",p)\n",
    "\n",
    "#Division\n",
    "d = a/b\n",
    "print (\"Division of A & B is:\",d)\n",
    "\n",
    "#Subtraction\n",
    "s = a-b\n",
    "print (\"Difference of A & B is:\",s)"
   ]
  },
  {
   "cell_type": "markdown",
   "id": "346983d1",
   "metadata": {},
   "source": [
    "# Task 06:"
   ]
  },
  {
   "cell_type": "markdown",
   "id": "0241a139",
   "metadata": {},
   "source": [
    "# String Literal "
   ]
  },
  {
   "cell_type": "code",
   "execution_count": 37,
   "id": "0fb0588e",
   "metadata": {
    "scrolled": true
   },
   "outputs": [
    {
     "name": "stdout",
     "output_type": "stream",
     "text": [
      "RAJA IQBAL! This is a string using single quotes.\n",
      "RAJA IQBAL! This is a string using double quotes.\n",
      "RAJA IQBAL! He said, 'Hello!'\n",
      "RAJA IQBAL! He said, \"Hi!\"\n"
     ]
    }
   ],
   "source": [
    "# Using single quotes\n",
    "string1 = 'RAJA IQBAL! This is a string using single quotes.'\n",
    "print(string1)\n",
    "\n",
    "# Using double quotes\n",
    "string2 = \"RAJA IQBAL! This is a string using double quotes.\"\n",
    "print(string2)\n",
    "\n",
    "# Using double quotes when the string contains a single quote\n",
    "string3 = \"RAJA IQBAL! He said, 'Hello!'\"\n",
    "print(string3)\n",
    "\n",
    "# Using single quotes when the string contains double quotes\n",
    "string4 = 'RAJA IQBAL! He said, \"Hi!\"'\n",
    "print(string4)\n"
   ]
  },
  {
   "cell_type": "markdown",
   "id": "80383ab2",
   "metadata": {},
   "source": [
    "# Task 07:"
   ]
  },
  {
   "cell_type": "markdown",
   "id": "b3bd2a32",
   "metadata": {},
   "source": [
    "# Print Function "
   ]
  },
  {
   "cell_type": "code",
   "execution_count": 38,
   "id": "dc924d9f",
   "metadata": {},
   "outputs": [
    {
     "name": "stdout",
     "output_type": "stream",
     "text": [
      "The value of x is: 10\n",
      "The values of x and y are: 10 and 20\n",
      "My name is RAJA IQBAL and I am 19 years old.\n",
      "The sum of 5 and 7 is 12.\n"
     ]
    }
   ],
   "source": [
    "# Example of using the print() function to output a variable\n",
    "x = 10\n",
    "print(\"The value of x is:\", x)\n",
    "\n",
    "# Example of outputting multiple variables with print()\n",
    "y = 20\n",
    "print(\"The values of x and y are:\", x, \"and\", y)\n",
    "\n",
    "# Example of using f-strings to format output\n",
    "name = \"RAJA IQBAL\"\n",
    "age = 19\n",
    "print(f\"My name is {name} and I am {age} years old.\")\n",
    "\n",
    "# Example of using f-strings to manipulate variables in output\n",
    "a = 5\n",
    "b = 7\n",
    "print(f\"The sum of {a} and {b} is {a + b}.\")\n"
   ]
  },
  {
   "cell_type": "markdown",
   "id": "502b70f6",
   "metadata": {},
   "source": [
    "# Others Practice "
   ]
  },
  {
   "cell_type": "code",
   "execution_count": 35,
   "id": "6700f209",
   "metadata": {},
   "outputs": [
    {
     "name": "stdout",
     "output_type": "stream",
     "text": [
      "10\n",
      "20\n",
      "30\n",
      "15\n"
     ]
    }
   ],
   "source": [
    "RAJA_AGE = 10\n",
    "RAJA_Age = 20\n",
    "RAJA_age = 30\n",
    "print(RAJA_AGE)\n",
    "print(RAJA_Age)\n",
    "print(RAJA_age)\n",
    "RAJA_AGE = 15\n",
    "print (RAJA_AGE )"
   ]
  },
  {
   "cell_type": "code",
   "execution_count": 78,
   "id": "caacaf5f",
   "metadata": {},
   "outputs": [
    {
     "name": "stdout",
     "output_type": "stream",
     "text": [
      " RAJA  IQBAL\n"
     ]
    }
   ],
   "source": [
    "A = ' RAJA '\n",
    "B = ' IQBAL'\n",
    "C = A+B\n",
    "print (C)\n",
    "#If we use + then the differnce (,) between values of 2 variables were removed. "
   ]
  },
  {
   "cell_type": "code",
   "execution_count": 40,
   "id": "4671ed46",
   "metadata": {},
   "outputs": [
    {
     "name": "stdout",
     "output_type": "stream",
     "text": [
      "(' RAJA ', ' IQBAL')\n"
     ]
    }
   ],
   "source": [
    "A = ' RAJA '\n",
    "B = ' IQBAL'\n",
    "C = A,B\n",
    "print (C)\n",
    "#If we use (,) then there is a differnce between values of 2 variables. "
   ]
  },
  {
   "cell_type": "code",
   "execution_count": 41,
   "id": "89273d29",
   "metadata": {},
   "outputs": [
    {
     "name": "stdout",
     "output_type": "stream",
     "text": [
      "Please Enter your Age:20\n",
      "Raja Iqbal Age is: 20\n"
     ]
    }
   ],
   "source": [
    "#Input From User\n",
    "Age = input(\"Please Enter your Age:\")  \n",
    "print (f\"Raja Iqbal Age is: {Age}\")"
   ]
  }
 ],
 "metadata": {
  "kernelspec": {
   "display_name": "Python 3 (ipykernel)",
   "language": "python",
   "name": "python3"
  },
  "language_info": {
   "codemirror_mode": {
    "name": "ipython",
    "version": 3
   },
   "file_extension": ".py",
   "mimetype": "text/x-python",
   "name": "python",
   "nbconvert_exporter": "python",
   "pygments_lexer": "ipython3",
   "version": "3.11.5"
  }
 },
 "nbformat": 4,
 "nbformat_minor": 5
}
